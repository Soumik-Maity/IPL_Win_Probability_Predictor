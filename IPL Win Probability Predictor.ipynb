{
 "cells": [
  {
   "cell_type": "code",
   "execution_count": 2,
   "id": "4d6f5d69",
   "metadata": {},
   "outputs": [],
   "source": [
    "import numpy as np\n",
    "import pandas as pd"
   ]
  },
  {
   "cell_type": "code",
   "execution_count": 3,
   "id": "f846a729",
   "metadata": {},
   "outputs": [],
   "source": [
    "match = pd.read_csv('matches.csv')\n",
    "delivery = pd.read_csv('deliveries.csv')"
   ]
  },
  {
   "cell_type": "code",
   "execution_count": 4,
   "id": "d8eb8ebd",
   "metadata": {},
   "outputs": [
    {
     "name": "stderr",
     "output_type": "stream",
     "text": [
      "C:\\Users\\soumi\\AppData\\Local\\Temp\\ipykernel_6116\\2553512226.py:1: FutureWarning: The default value of numeric_only in DataFrameGroupBy.sum is deprecated. In a future version, numeric_only will default to False. Either specify numeric_only or select only columns which should be valid for the function.\n",
      "  total_score_df = delivery.groupby(['match_id','inning']).sum()['total_runs'].reset_index()\n"
     ]
    }
   ],
   "source": [
    "total_score_df = delivery.groupby(['match_id','inning']).sum()['total_runs'].reset_index()"
   ]
  },
  {
   "cell_type": "code",
   "execution_count": 5,
   "id": "efe95792",
   "metadata": {},
   "outputs": [],
   "source": [
    "total_score_df = total_score_df[total_score_df['inning'] == 1]"
   ]
  },
  {
   "cell_type": "code",
   "execution_count": 6,
   "id": "432f8b6e",
   "metadata": {},
   "outputs": [],
   "source": [
    "match_df = match.merge(total_score_df[['match_id','total_runs']], left_on='id', right_on='match_id')"
   ]
  },
  {
   "cell_type": "code",
   "execution_count": 7,
   "id": "eece1e1a",
   "metadata": {},
   "outputs": [],
   "source": [
    "teams = [\n",
    "    'Sunrisers Hyderabad',\n",
    "    'Mumbai Indians',\n",
    "    'Royal Challengers Bangalore',\n",
    "    'Kolkata Knight Riders',\n",
    "    'Kings XI Punjab',\n",
    "    'Chennai Super Kings',\n",
    "    'Rajasthan Royals',\n",
    "    'Delhi Capitals'\n",
    "]"
   ]
  },
  {
   "cell_type": "code",
   "execution_count": 8,
   "id": "d9958006",
   "metadata": {},
   "outputs": [],
   "source": [
    "match_df['team1'] = match_df['team1'].str.replace('Delhi Daredevils','Delhi Capitals')\n",
    "match_df['team2'] = match_df['team2'].str.replace('Delhi Daredevils','Delhi Capitals')\n",
    "\n",
    "match_df['team1'] = match_df['team1'].str.replace('Deccan Chargers','Sunrisers Hyderabad')\n",
    "match_df['team2'] = match_df['team2'].str.replace('Deccan Chargers','Sunrisers Hyderabad')"
   ]
  },
  {
   "cell_type": "code",
   "execution_count": 9,
   "id": "9b732556",
   "metadata": {},
   "outputs": [],
   "source": [
    "match_df = match_df[match_df['team1'].isin(teams)]\n",
    "match_df = match_df[match_df['team2'].isin(teams)]"
   ]
  },
  {
   "cell_type": "code",
   "execution_count": 10,
   "id": "8237efcd",
   "metadata": {},
   "outputs": [],
   "source": [
    "match_df = match_df[match_df['dl_applied'] == 0]"
   ]
  },
  {
   "cell_type": "code",
   "execution_count": 11,
   "id": "b5ffcef9",
   "metadata": {},
   "outputs": [],
   "source": [
    "match_df = match_df[['match_id','city','winner','total_runs']]"
   ]
  },
  {
   "cell_type": "code",
   "execution_count": 12,
   "id": "480b75dd",
   "metadata": {},
   "outputs": [],
   "source": [
    "delivery_df = match_df.merge(delivery, on='match_id')"
   ]
  },
  {
   "cell_type": "code",
   "execution_count": 13,
   "id": "6fd056c1",
   "metadata": {},
   "outputs": [],
   "source": [
    "delivery_df = delivery_df[delivery_df['inning'] == 2]"
   ]
  },
  {
   "cell_type": "code",
   "execution_count": 14,
   "id": "d93b75e2",
   "metadata": {},
   "outputs": [
    {
     "name": "stderr",
     "output_type": "stream",
     "text": [
      "C:\\Users\\soumi\\AppData\\Local\\Temp\\ipykernel_6116\\4218244993.py:2: FutureWarning: The default value of numeric_only in DataFrameGroupBy.cumsum is deprecated. In a future version, numeric_only will default to False. Either specify numeric_only or select only columns which should be valid for the function.\n",
      "  delivery_df['current_score'] = delivery_df.groupby('match_id').cumsum()['total_runs_y']\n"
     ]
    }
   ],
   "source": [
    "#Making an extra column in delivery_df named current_score\n",
    "delivery_df['current_score'] = delivery_df.groupby('match_id').cumsum()['total_runs_y']"
   ]
  },
  {
   "cell_type": "code",
   "execution_count": 15,
   "id": "dc63f76d",
   "metadata": {},
   "outputs": [],
   "source": [
    "delivery_df['runs_left'] = (delivery_df['total_runs_x']  - delivery_df['current_score']) + 1\n",
    "#One more column added namely runs_left"
   ]
  },
  {
   "cell_type": "code",
   "execution_count": 16,
   "id": "f85d9156",
   "metadata": {},
   "outputs": [],
   "source": [
    "delivery_df['balls_left'] = 126 - (delivery_df['over']*6 + delivery_df['ball'])"
   ]
  },
  {
   "cell_type": "code",
   "execution_count": 17,
   "id": "906bc08e",
   "metadata": {},
   "outputs": [
    {
     "name": "stderr",
     "output_type": "stream",
     "text": [
      "C:\\Users\\soumi\\AppData\\Local\\Temp\\ipykernel_6116\\2149457274.py:4: FutureWarning: The default value of numeric_only in DataFrameGroupBy.cumsum is deprecated. In a future version, numeric_only will default to False. Either specify numeric_only or select only columns which should be valid for the function.\n",
      "  wickets = delivery_df.groupby('match_id').cumsum()['player_dismissed'].values #Cummulative Sum of the column to get the number of wickets\n"
     ]
    }
   ],
   "source": [
    "delivery_df['player_dismissed'] = delivery_df['player_dismissed'].fillna(\"0\") #Replacing all NaN values to 0\n",
    "delivery_df['player_dismissed'] = delivery_df['player_dismissed'].apply(lambda x:x if x == \"0\" else \"1\") #Replacing all player names to 1\n",
    "delivery_df['player_dismissed'] = delivery_df['player_dismissed'].astype('int')#Coverting all values to integers\n",
    "wickets = delivery_df.groupby('match_id').cumsum()['player_dismissed'].values #Cummulative Sum of the column to get the number of wickets\n"
   ]
  },
  {
   "cell_type": "code",
   "execution_count": 18,
   "id": "0078f2d8",
   "metadata": {},
   "outputs": [],
   "source": [
    "delivery_df['wickets_left'] = 10 - wickets # Substarcting from 10 to get wickets_left and creating new col in delivery_df"
   ]
  },
  {
   "cell_type": "code",
   "execution_count": 19,
   "id": "fd95fc56",
   "metadata": {},
   "outputs": [],
   "source": [
    "delivery_df['crr'] = (delivery_df['current_score']*6) / (120 - delivery_df['balls_left'])"
   ]
  },
  {
   "cell_type": "code",
   "execution_count": 20,
   "id": "d8182c36",
   "metadata": {},
   "outputs": [],
   "source": [
    "delivery_df['rrr'] = (delivery_df['runs_left']*6) / delivery_df['balls_left']"
   ]
  },
  {
   "cell_type": "code",
   "execution_count": 21,
   "id": "4daf18ee",
   "metadata": {},
   "outputs": [],
   "source": [
    "def result(row):\n",
    "    return 1 if row['batting_team'] == row['winner'] else 0"
   ]
  },
  {
   "cell_type": "code",
   "execution_count": 22,
   "id": "8423c6ec",
   "metadata": {},
   "outputs": [],
   "source": [
    "delivery_df['result'] = delivery_df.apply(result,axis=1)"
   ]
  },
  {
   "cell_type": "code",
   "execution_count": 23,
   "id": "cd9c7d6e",
   "metadata": {},
   "outputs": [],
   "source": [
    "final_df = delivery_df[['batting_team','bowling_team','city','runs_left','balls_left','wickets_left','total_runs_x','crr','rrr','result']]"
   ]
  },
  {
   "cell_type": "code",
   "execution_count": 24,
   "id": "ab2a454e",
   "metadata": {},
   "outputs": [],
   "source": [
    "final_df = final_df.sample(final_df.shape[0])"
   ]
  },
  {
   "cell_type": "code",
   "execution_count": 25,
   "id": "45cb1f8e",
   "metadata": {},
   "outputs": [
    {
     "data": {
      "text/plain": [
       "batting_team      0\n",
       "bowling_team      0\n",
       "city            832\n",
       "runs_left         0\n",
       "balls_left        0\n",
       "wickets_left      0\n",
       "total_runs_x      0\n",
       "crr               0\n",
       "rrr               5\n",
       "result            0\n",
       "dtype: int64"
      ]
     },
     "execution_count": 25,
     "metadata": {},
     "output_type": "execute_result"
    }
   ],
   "source": [
    "final_df.isnull().sum()\n",
    "#finding the presence of any NaN values which could create future problems. "
   ]
  },
  {
   "cell_type": "code",
   "execution_count": 26,
   "id": "38e30650",
   "metadata": {},
   "outputs": [],
   "source": [
    "final_df.dropna(inplace=True) #Dropping the NaN values"
   ]
  },
  {
   "cell_type": "code",
   "execution_count": 27,
   "id": "7e2caf66",
   "metadata": {},
   "outputs": [],
   "source": [
    "final_df = final_df[final_df['balls_left'] != 0] #rrr can be NaN when no of balls(denominator) is zero. So removing those rows"
   ]
  },
  {
   "cell_type": "code",
   "execution_count": null,
   "id": "3491e0fb",
   "metadata": {},
   "outputs": [],
   "source": []
  },
  {
   "cell_type": "code",
   "execution_count": 28,
   "id": "c01b5548",
   "metadata": {},
   "outputs": [
    {
     "data": {
      "text/plain": [
       "['Sunrisers Hyderabad',\n",
       " 'Mumbai Indians',\n",
       " 'Royal Challengers Bangalore',\n",
       " 'Kolkata Knight Riders',\n",
       " 'Kings XI Punjab',\n",
       " 'Chennai Super Kings',\n",
       " 'Rajasthan Royals',\n",
       " 'Delhi Capitals']"
      ]
     },
     "execution_count": 28,
     "metadata": {},
     "output_type": "execute_result"
    }
   ],
   "source": [
    "teams"
   ]
  },
  {
   "cell_type": "code",
   "execution_count": 29,
   "id": "c2fc552f",
   "metadata": {},
   "outputs": [],
   "source": [
    "X = final_df.iloc[:,:-1]\n",
    "y = final_df.iloc[:,-1]\n",
    "from sklearn.model_selection import train_test_split\n",
    "X_train,X_test,y_train,y_test = train_test_split(X,y,test_size=0.2,random_state=1)"
   ]
  },
  {
   "cell_type": "code",
   "execution_count": 30,
   "id": "22e78ee6",
   "metadata": {},
   "outputs": [],
   "source": [
    "from sklearn.compose import ColumnTransformer\n",
    "from sklearn.preprocessing import OneHotEncoder\n",
    "\n",
    "trf = ColumnTransformer([\n",
    "    ('trf',OneHotEncoder(sparse=False,drop='first'),['batting_team','bowling_team','city'])\n",
    "]\n",
    ",remainder='passthrough')"
   ]
  },
  {
   "cell_type": "code",
   "execution_count": 31,
   "id": "23182910",
   "metadata": {},
   "outputs": [],
   "source": [
    "from sklearn.linear_model import LogisticRegression\n",
    "from sklearn.ensemble import RandomForestClassifier\n",
    "from sklearn.pipeline import Pipeline"
   ]
  },
  {
   "cell_type": "code",
   "execution_count": 32,
   "id": "db08bbba",
   "metadata": {},
   "outputs": [],
   "source": [
    "pipe = Pipeline(steps=[\n",
    "    ('step1',trf),\n",
    "    ('step2',LogisticRegression(solver='liblinear'))\n",
    "])"
   ]
  },
  {
   "cell_type": "code",
   "execution_count": 33,
   "id": "70de52e1",
   "metadata": {},
   "outputs": [
    {
     "name": "stderr",
     "output_type": "stream",
     "text": [
      "C:\\Users\\soumi\\anaconda3\\Lib\\site-packages\\sklearn\\preprocessing\\_encoders.py:972: FutureWarning: `sparse` was renamed to `sparse_output` in version 1.2 and will be removed in 1.4. `sparse_output` is ignored unless you leave `sparse` to its default value.\n",
      "  warnings.warn(\n"
     ]
    },
    {
     "data": {
      "text/html": [
       "<style>#sk-container-id-1 {color: black;}#sk-container-id-1 pre{padding: 0;}#sk-container-id-1 div.sk-toggleable {background-color: white;}#sk-container-id-1 label.sk-toggleable__label {cursor: pointer;display: block;width: 100%;margin-bottom: 0;padding: 0.3em;box-sizing: border-box;text-align: center;}#sk-container-id-1 label.sk-toggleable__label-arrow:before {content: \"▸\";float: left;margin-right: 0.25em;color: #696969;}#sk-container-id-1 label.sk-toggleable__label-arrow:hover:before {color: black;}#sk-container-id-1 div.sk-estimator:hover label.sk-toggleable__label-arrow:before {color: black;}#sk-container-id-1 div.sk-toggleable__content {max-height: 0;max-width: 0;overflow: hidden;text-align: left;background-color: #f0f8ff;}#sk-container-id-1 div.sk-toggleable__content pre {margin: 0.2em;color: black;border-radius: 0.25em;background-color: #f0f8ff;}#sk-container-id-1 input.sk-toggleable__control:checked~div.sk-toggleable__content {max-height: 200px;max-width: 100%;overflow: auto;}#sk-container-id-1 input.sk-toggleable__control:checked~label.sk-toggleable__label-arrow:before {content: \"▾\";}#sk-container-id-1 div.sk-estimator input.sk-toggleable__control:checked~label.sk-toggleable__label {background-color: #d4ebff;}#sk-container-id-1 div.sk-label input.sk-toggleable__control:checked~label.sk-toggleable__label {background-color: #d4ebff;}#sk-container-id-1 input.sk-hidden--visually {border: 0;clip: rect(1px 1px 1px 1px);clip: rect(1px, 1px, 1px, 1px);height: 1px;margin: -1px;overflow: hidden;padding: 0;position: absolute;width: 1px;}#sk-container-id-1 div.sk-estimator {font-family: monospace;background-color: #f0f8ff;border: 1px dotted black;border-radius: 0.25em;box-sizing: border-box;margin-bottom: 0.5em;}#sk-container-id-1 div.sk-estimator:hover {background-color: #d4ebff;}#sk-container-id-1 div.sk-parallel-item::after {content: \"\";width: 100%;border-bottom: 1px solid gray;flex-grow: 1;}#sk-container-id-1 div.sk-label:hover label.sk-toggleable__label {background-color: #d4ebff;}#sk-container-id-1 div.sk-serial::before {content: \"\";position: absolute;border-left: 1px solid gray;box-sizing: border-box;top: 0;bottom: 0;left: 50%;z-index: 0;}#sk-container-id-1 div.sk-serial {display: flex;flex-direction: column;align-items: center;background-color: white;padding-right: 0.2em;padding-left: 0.2em;position: relative;}#sk-container-id-1 div.sk-item {position: relative;z-index: 1;}#sk-container-id-1 div.sk-parallel {display: flex;align-items: stretch;justify-content: center;background-color: white;position: relative;}#sk-container-id-1 div.sk-item::before, #sk-container-id-1 div.sk-parallel-item::before {content: \"\";position: absolute;border-left: 1px solid gray;box-sizing: border-box;top: 0;bottom: 0;left: 50%;z-index: -1;}#sk-container-id-1 div.sk-parallel-item {display: flex;flex-direction: column;z-index: 1;position: relative;background-color: white;}#sk-container-id-1 div.sk-parallel-item:first-child::after {align-self: flex-end;width: 50%;}#sk-container-id-1 div.sk-parallel-item:last-child::after {align-self: flex-start;width: 50%;}#sk-container-id-1 div.sk-parallel-item:only-child::after {width: 0;}#sk-container-id-1 div.sk-dashed-wrapped {border: 1px dashed gray;margin: 0 0.4em 0.5em 0.4em;box-sizing: border-box;padding-bottom: 0.4em;background-color: white;}#sk-container-id-1 div.sk-label label {font-family: monospace;font-weight: bold;display: inline-block;line-height: 1.2em;}#sk-container-id-1 div.sk-label-container {text-align: center;}#sk-container-id-1 div.sk-container {/* jupyter's `normalize.less` sets `[hidden] { display: none; }` but bootstrap.min.css set `[hidden] { display: none !important; }` so we also need the `!important` here to be able to override the default hidden behavior on the sphinx rendered scikit-learn.org. See: https://github.com/scikit-learn/scikit-learn/issues/21755 */display: inline-block !important;position: relative;}#sk-container-id-1 div.sk-text-repr-fallback {display: none;}</style><div id=\"sk-container-id-1\" class=\"sk-top-container\"><div class=\"sk-text-repr-fallback\"><pre>Pipeline(steps=[(&#x27;step1&#x27;,\n",
       "                 ColumnTransformer(remainder=&#x27;passthrough&#x27;,\n",
       "                                   transformers=[(&#x27;trf&#x27;,\n",
       "                                                  OneHotEncoder(drop=&#x27;first&#x27;,\n",
       "                                                                sparse=False),\n",
       "                                                  [&#x27;batting_team&#x27;,\n",
       "                                                   &#x27;bowling_team&#x27;, &#x27;city&#x27;])])),\n",
       "                (&#x27;step2&#x27;, LogisticRegression(solver=&#x27;liblinear&#x27;))])</pre><b>In a Jupyter environment, please rerun this cell to show the HTML representation or trust the notebook. <br />On GitHub, the HTML representation is unable to render, please try loading this page with nbviewer.org.</b></div><div class=\"sk-container\" hidden><div class=\"sk-item sk-dashed-wrapped\"><div class=\"sk-label-container\"><div class=\"sk-label sk-toggleable\"><input class=\"sk-toggleable__control sk-hidden--visually\" id=\"sk-estimator-id-1\" type=\"checkbox\" ><label for=\"sk-estimator-id-1\" class=\"sk-toggleable__label sk-toggleable__label-arrow\">Pipeline</label><div class=\"sk-toggleable__content\"><pre>Pipeline(steps=[(&#x27;step1&#x27;,\n",
       "                 ColumnTransformer(remainder=&#x27;passthrough&#x27;,\n",
       "                                   transformers=[(&#x27;trf&#x27;,\n",
       "                                                  OneHotEncoder(drop=&#x27;first&#x27;,\n",
       "                                                                sparse=False),\n",
       "                                                  [&#x27;batting_team&#x27;,\n",
       "                                                   &#x27;bowling_team&#x27;, &#x27;city&#x27;])])),\n",
       "                (&#x27;step2&#x27;, LogisticRegression(solver=&#x27;liblinear&#x27;))])</pre></div></div></div><div class=\"sk-serial\"><div class=\"sk-item sk-dashed-wrapped\"><div class=\"sk-label-container\"><div class=\"sk-label sk-toggleable\"><input class=\"sk-toggleable__control sk-hidden--visually\" id=\"sk-estimator-id-2\" type=\"checkbox\" ><label for=\"sk-estimator-id-2\" class=\"sk-toggleable__label sk-toggleable__label-arrow\">step1: ColumnTransformer</label><div class=\"sk-toggleable__content\"><pre>ColumnTransformer(remainder=&#x27;passthrough&#x27;,\n",
       "                  transformers=[(&#x27;trf&#x27;,\n",
       "                                 OneHotEncoder(drop=&#x27;first&#x27;, sparse=False),\n",
       "                                 [&#x27;batting_team&#x27;, &#x27;bowling_team&#x27;, &#x27;city&#x27;])])</pre></div></div></div><div class=\"sk-parallel\"><div class=\"sk-parallel-item\"><div class=\"sk-item\"><div class=\"sk-label-container\"><div class=\"sk-label sk-toggleable\"><input class=\"sk-toggleable__control sk-hidden--visually\" id=\"sk-estimator-id-3\" type=\"checkbox\" ><label for=\"sk-estimator-id-3\" class=\"sk-toggleable__label sk-toggleable__label-arrow\">trf</label><div class=\"sk-toggleable__content\"><pre>[&#x27;batting_team&#x27;, &#x27;bowling_team&#x27;, &#x27;city&#x27;]</pre></div></div></div><div class=\"sk-serial\"><div class=\"sk-item\"><div class=\"sk-estimator sk-toggleable\"><input class=\"sk-toggleable__control sk-hidden--visually\" id=\"sk-estimator-id-4\" type=\"checkbox\" ><label for=\"sk-estimator-id-4\" class=\"sk-toggleable__label sk-toggleable__label-arrow\">OneHotEncoder</label><div class=\"sk-toggleable__content\"><pre>OneHotEncoder(drop=&#x27;first&#x27;, sparse=False)</pre></div></div></div></div></div></div><div class=\"sk-parallel-item\"><div class=\"sk-item\"><div class=\"sk-label-container\"><div class=\"sk-label sk-toggleable\"><input class=\"sk-toggleable__control sk-hidden--visually\" id=\"sk-estimator-id-5\" type=\"checkbox\" ><label for=\"sk-estimator-id-5\" class=\"sk-toggleable__label sk-toggleable__label-arrow\">remainder</label><div class=\"sk-toggleable__content\"><pre>[&#x27;runs_left&#x27;, &#x27;balls_left&#x27;, &#x27;wickets_left&#x27;, &#x27;total_runs_x&#x27;, &#x27;crr&#x27;, &#x27;rrr&#x27;]</pre></div></div></div><div class=\"sk-serial\"><div class=\"sk-item\"><div class=\"sk-estimator sk-toggleable\"><input class=\"sk-toggleable__control sk-hidden--visually\" id=\"sk-estimator-id-6\" type=\"checkbox\" ><label for=\"sk-estimator-id-6\" class=\"sk-toggleable__label sk-toggleable__label-arrow\">passthrough</label><div class=\"sk-toggleable__content\"><pre>passthrough</pre></div></div></div></div></div></div></div></div><div class=\"sk-item\"><div class=\"sk-estimator sk-toggleable\"><input class=\"sk-toggleable__control sk-hidden--visually\" id=\"sk-estimator-id-7\" type=\"checkbox\" ><label for=\"sk-estimator-id-7\" class=\"sk-toggleable__label sk-toggleable__label-arrow\">LogisticRegression</label><div class=\"sk-toggleable__content\"><pre>LogisticRegression(solver=&#x27;liblinear&#x27;)</pre></div></div></div></div></div></div></div>"
      ],
      "text/plain": [
       "Pipeline(steps=[('step1',\n",
       "                 ColumnTransformer(remainder='passthrough',\n",
       "                                   transformers=[('trf',\n",
       "                                                  OneHotEncoder(drop='first',\n",
       "                                                                sparse=False),\n",
       "                                                  ['batting_team',\n",
       "                                                   'bowling_team', 'city'])])),\n",
       "                ('step2', LogisticRegression(solver='liblinear'))])"
      ]
     },
     "execution_count": 33,
     "metadata": {},
     "output_type": "execute_result"
    }
   ],
   "source": [
    "pipe.fit(X_train,y_train)"
   ]
  },
  {
   "cell_type": "code",
   "execution_count": 34,
   "id": "a7e3c567",
   "metadata": {},
   "outputs": [],
   "source": [
    "y_pred = pipe.predict(X_test)"
   ]
  },
  {
   "cell_type": "code",
   "execution_count": 35,
   "id": "9bfff8d8",
   "metadata": {},
   "outputs": [
    {
     "data": {
      "text/plain": [
       "0.8049618053122153"
      ]
     },
     "execution_count": 35,
     "metadata": {},
     "output_type": "execute_result"
    }
   ],
   "source": [
    "#Testing Accuracy\n",
    "from sklearn.metrics import accuracy_score\n",
    "accuracy_score(y_test,y_pred)"
   ]
  },
  {
   "cell_type": "code",
   "execution_count": 36,
   "id": "4bf5836d",
   "metadata": {},
   "outputs": [
    {
     "data": {
      "text/plain": [
       "['Sunrisers Hyderabad',\n",
       " 'Mumbai Indians',\n",
       " 'Royal Challengers Bangalore',\n",
       " 'Kolkata Knight Riders',\n",
       " 'Kings XI Punjab',\n",
       " 'Chennai Super Kings',\n",
       " 'Rajasthan Royals',\n",
       " 'Delhi Capitals']"
      ]
     },
     "execution_count": 36,
     "metadata": {},
     "output_type": "execute_result"
    }
   ],
   "source": [
    "teams"
   ]
  },
  {
   "cell_type": "code",
   "execution_count": 37,
   "id": "bf717163",
   "metadata": {},
   "outputs": [
    {
     "data": {
      "text/plain": [
       "array(['Hyderabad', 'Bangalore', 'Mumbai', 'Indore', 'Kolkata', 'Delhi',\n",
       "       'Chandigarh', 'Jaipur', 'Chennai', 'Cape Town', 'Port Elizabeth',\n",
       "       'Durban', 'Centurion', 'East London', 'Johannesburg', 'Kimberley',\n",
       "       'Bloemfontein', 'Ahmedabad', 'Cuttack', 'Nagpur', 'Dharamsala',\n",
       "       'Visakhapatnam', 'Pune', 'Raipur', 'Ranchi', 'Abu Dhabi',\n",
       "       'Sharjah', nan, 'Mohali', 'Bengaluru'], dtype=object)"
      ]
     },
     "execution_count": 37,
     "metadata": {},
     "output_type": "execute_result"
    }
   ],
   "source": [
    "delivery_df['city'].unique()"
   ]
  },
  {
   "cell_type": "code",
   "execution_count": 38,
   "id": "2ec7958a",
   "metadata": {},
   "outputs": [],
   "source": [
    "import pickle\n",
    "pickle.dump(pipe, open('pipe.pkl','wb'))"
   ]
  },
  {
   "cell_type": "code",
   "execution_count": 40,
   "id": "24359306",
   "metadata": {},
   "outputs": [
    {
     "data": {
      "text/html": [
       "<div>\n",
       "<style scoped>\n",
       "    .dataframe tbody tr th:only-of-type {\n",
       "        vertical-align: middle;\n",
       "    }\n",
       "\n",
       "    .dataframe tbody tr th {\n",
       "        vertical-align: top;\n",
       "    }\n",
       "\n",
       "    .dataframe thead th {\n",
       "        text-align: right;\n",
       "    }\n",
       "</style>\n",
       "<table border=\"1\" class=\"dataframe\">\n",
       "  <thead>\n",
       "    <tr style=\"text-align: right;\">\n",
       "      <th></th>\n",
       "      <th>batting_team</th>\n",
       "      <th>bowling_team</th>\n",
       "      <th>city</th>\n",
       "      <th>runs_left</th>\n",
       "      <th>balls_left</th>\n",
       "      <th>wickets_left</th>\n",
       "      <th>total_runs_x</th>\n",
       "      <th>crr</th>\n",
       "      <th>rrr</th>\n",
       "      <th>result</th>\n",
       "    </tr>\n",
       "  </thead>\n",
       "  <tbody>\n",
       "    <tr>\n",
       "      <th>121179</th>\n",
       "      <td>Kolkata Knight Riders</td>\n",
       "      <td>Sunrisers Hyderabad</td>\n",
       "      <td>Delhi</td>\n",
       "      <td>95</td>\n",
       "      <td>57</td>\n",
       "      <td>7</td>\n",
       "      <td>162</td>\n",
       "      <td>6.476190</td>\n",
       "      <td>10.000000</td>\n",
       "      <td>0</td>\n",
       "    </tr>\n",
       "    <tr>\n",
       "      <th>17023</th>\n",
       "      <td>Delhi Daredevils</td>\n",
       "      <td>Royal Challengers Bangalore</td>\n",
       "      <td>Bangalore</td>\n",
       "      <td>65</td>\n",
       "      <td>78</td>\n",
       "      <td>9</td>\n",
       "      <td>154</td>\n",
       "      <td>12.857143</td>\n",
       "      <td>5.000000</td>\n",
       "      <td>1</td>\n",
       "    </tr>\n",
       "    <tr>\n",
       "      <th>139802</th>\n",
       "      <td>Sunrisers Hyderabad</td>\n",
       "      <td>Mumbai Indians</td>\n",
       "      <td>Hyderabad</td>\n",
       "      <td>125</td>\n",
       "      <td>106</td>\n",
       "      <td>10</td>\n",
       "      <td>142</td>\n",
       "      <td>7.714286</td>\n",
       "      <td>7.075472</td>\n",
       "      <td>0</td>\n",
       "    </tr>\n",
       "    <tr>\n",
       "      <th>101874</th>\n",
       "      <td>Royal Challengers Bangalore</td>\n",
       "      <td>Kolkata Knight Riders</td>\n",
       "      <td>Kolkata</td>\n",
       "      <td>149</td>\n",
       "      <td>91</td>\n",
       "      <td>9</td>\n",
       "      <td>177</td>\n",
       "      <td>6.000000</td>\n",
       "      <td>9.824176</td>\n",
       "      <td>1</td>\n",
       "    </tr>\n",
       "    <tr>\n",
       "      <th>84251</th>\n",
       "      <td>Delhi Daredevils</td>\n",
       "      <td>Chennai Super Kings</td>\n",
       "      <td>Chennai</td>\n",
       "      <td>81</td>\n",
       "      <td>44</td>\n",
       "      <td>5</td>\n",
       "      <td>168</td>\n",
       "      <td>6.947368</td>\n",
       "      <td>11.045455</td>\n",
       "      <td>0</td>\n",
       "    </tr>\n",
       "    <tr>\n",
       "      <th>...</th>\n",
       "      <td>...</td>\n",
       "      <td>...</td>\n",
       "      <td>...</td>\n",
       "      <td>...</td>\n",
       "      <td>...</td>\n",
       "      <td>...</td>\n",
       "      <td>...</td>\n",
       "      <td>...</td>\n",
       "      <td>...</td>\n",
       "      <td>...</td>\n",
       "    </tr>\n",
       "    <tr>\n",
       "      <th>73459</th>\n",
       "      <td>Sunrisers Hyderabad</td>\n",
       "      <td>Royal Challengers Bangalore</td>\n",
       "      <td>Hyderabad</td>\n",
       "      <td>60</td>\n",
       "      <td>46</td>\n",
       "      <td>7</td>\n",
       "      <td>130</td>\n",
       "      <td>5.756757</td>\n",
       "      <td>7.826087</td>\n",
       "      <td>1</td>\n",
       "    </tr>\n",
       "    <tr>\n",
       "      <th>47750</th>\n",
       "      <td>Mumbai Indians</td>\n",
       "      <td>Chennai Super Kings</td>\n",
       "      <td>Mumbai</td>\n",
       "      <td>127</td>\n",
       "      <td>68</td>\n",
       "      <td>9</td>\n",
       "      <td>168</td>\n",
       "      <td>4.846154</td>\n",
       "      <td>11.205882</td>\n",
       "      <td>0</td>\n",
       "    </tr>\n",
       "    <tr>\n",
       "      <th>56211</th>\n",
       "      <td>Delhi Daredevils</td>\n",
       "      <td>Kings XI Punjab</td>\n",
       "      <td>Dharamsala</td>\n",
       "      <td>69</td>\n",
       "      <td>24</td>\n",
       "      <td>4</td>\n",
       "      <td>170</td>\n",
       "      <td>6.375000</td>\n",
       "      <td>17.250000</td>\n",
       "      <td>0</td>\n",
       "    </tr>\n",
       "    <tr>\n",
       "      <th>65155</th>\n",
       "      <td>Rajasthan Royals</td>\n",
       "      <td>Delhi Daredevils</td>\n",
       "      <td>Delhi</td>\n",
       "      <td>148</td>\n",
       "      <td>118</td>\n",
       "      <td>10</td>\n",
       "      <td>152</td>\n",
       "      <td>15.000000</td>\n",
       "      <td>7.525424</td>\n",
       "      <td>0</td>\n",
       "    </tr>\n",
       "    <tr>\n",
       "      <th>1615</th>\n",
       "      <td>Mumbai Indians</td>\n",
       "      <td>Royal Challengers Bangalore</td>\n",
       "      <td>Bangalore</td>\n",
       "      <td>105</td>\n",
       "      <td>65</td>\n",
       "      <td>5</td>\n",
       "      <td>142</td>\n",
       "      <td>4.145455</td>\n",
       "      <td>9.692308</td>\n",
       "      <td>1</td>\n",
       "    </tr>\n",
       "  </tbody>\n",
       "</table>\n",
       "<p>71342 rows × 10 columns</p>\n",
       "</div>"
      ],
      "text/plain": [
       "                       batting_team                 bowling_team        city  \\\n",
       "121179        Kolkata Knight Riders          Sunrisers Hyderabad       Delhi   \n",
       "17023              Delhi Daredevils  Royal Challengers Bangalore   Bangalore   \n",
       "139802          Sunrisers Hyderabad               Mumbai Indians   Hyderabad   \n",
       "101874  Royal Challengers Bangalore        Kolkata Knight Riders     Kolkata   \n",
       "84251              Delhi Daredevils          Chennai Super Kings     Chennai   \n",
       "...                             ...                          ...         ...   \n",
       "73459           Sunrisers Hyderabad  Royal Challengers Bangalore   Hyderabad   \n",
       "47750                Mumbai Indians          Chennai Super Kings      Mumbai   \n",
       "56211              Delhi Daredevils              Kings XI Punjab  Dharamsala   \n",
       "65155              Rajasthan Royals             Delhi Daredevils       Delhi   \n",
       "1615                 Mumbai Indians  Royal Challengers Bangalore   Bangalore   \n",
       "\n",
       "        runs_left  balls_left  wickets_left  total_runs_x        crr  \\\n",
       "121179         95          57             7           162   6.476190   \n",
       "17023          65          78             9           154  12.857143   \n",
       "139802        125         106            10           142   7.714286   \n",
       "101874        149          91             9           177   6.000000   \n",
       "84251          81          44             5           168   6.947368   \n",
       "...           ...         ...           ...           ...        ...   \n",
       "73459          60          46             7           130   5.756757   \n",
       "47750         127          68             9           168   4.846154   \n",
       "56211          69          24             4           170   6.375000   \n",
       "65155         148         118            10           152  15.000000   \n",
       "1615          105          65             5           142   4.145455   \n",
       "\n",
       "              rrr  result  \n",
       "121179  10.000000       0  \n",
       "17023    5.000000       1  \n",
       "139802   7.075472       0  \n",
       "101874   9.824176       1  \n",
       "84251   11.045455       0  \n",
       "...           ...     ...  \n",
       "73459    7.826087       1  \n",
       "47750   11.205882       0  \n",
       "56211   17.250000       0  \n",
       "65155    7.525424       0  \n",
       "1615     9.692308       1  \n",
       "\n",
       "[71342 rows x 10 columns]"
      ]
     },
     "execution_count": 40,
     "metadata": {},
     "output_type": "execute_result"
    }
   ],
   "source": [
    "final_df"
   ]
  },
  {
   "cell_type": "code",
   "execution_count": null,
   "id": "e82fbf74",
   "metadata": {},
   "outputs": [],
   "source": []
  },
  {
   "cell_type": "code",
   "execution_count": null,
   "id": "43871452",
   "metadata": {},
   "outputs": [],
   "source": []
  },
  {
   "cell_type": "code",
   "execution_count": null,
   "id": "790d7436",
   "metadata": {},
   "outputs": [],
   "source": []
  }
 ],
 "metadata": {
  "kernelspec": {
   "display_name": "Python 3 (ipykernel)",
   "language": "python",
   "name": "python3"
  },
  "language_info": {
   "codemirror_mode": {
    "name": "ipython",
    "version": 3
   },
   "file_extension": ".py",
   "mimetype": "text/x-python",
   "name": "python",
   "nbconvert_exporter": "python",
   "pygments_lexer": "ipython3",
   "version": "3.11.4"
  }
 },
 "nbformat": 4,
 "nbformat_minor": 5
}
